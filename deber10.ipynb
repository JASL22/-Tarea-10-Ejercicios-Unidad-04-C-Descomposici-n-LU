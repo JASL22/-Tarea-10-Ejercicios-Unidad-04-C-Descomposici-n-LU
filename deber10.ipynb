{
 "cells": [
  {
   "cell_type": "markdown",
   "id": "24ab8900",
   "metadata": {},
   "source": [
    "# Escuela Politécnica Nacional\n",
    "## Métodos Numéricos\n",
    "## [Tarea 10] Ejercicios Unidad 04-C | Descomposición LU\n",
    "## Jhonn Saeteros"
   ]
  }
 ],
 "metadata": {
  "language_info": {
   "name": "python"
  }
 },
 "nbformat": 4,
 "nbformat_minor": 5
}
